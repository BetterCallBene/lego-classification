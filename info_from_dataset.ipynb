{
 "cells": [
  {
   "cell_type": "code",
   "execution_count": 125,
   "metadata": {},
   "outputs": [],
   "source": [
    "!pip install --quiet fiftyone"
   ]
  },
  {
   "cell_type": "code",
   "execution_count": 126,
   "metadata": {},
   "outputs": [],
   "source": [
    "import fiftyone as fo\n",
    "from fiftyone import ViewField as F"
   ]
  },
  {
   "cell_type": "code",
   "execution_count": 127,
   "metadata": {},
   "outputs": [],
   "source": [
    "dataset_name = 'lego-classification'\n",
    "dataset = fo.load_dataset(dataset_name)"
   ]
  },
  {
   "cell_type": "code",
   "execution_count": 128,
   "metadata": {},
   "outputs": [
    {
     "name": "stdout",
     "output_type": "stream",
     "text": [
      "Count of training samples:  16\n",
      "Count of validation_samples:  4\n"
     ]
    }
   ],
   "source": [
    "count_of_samples = 20\n",
    "percent_of_training_data = 0.82\n",
    "count_of_training_samples = int(count_of_samples * percent_of_training_data)\n",
    "count_of_validation_samples = count_of_samples - count_of_training_samples\n",
    "\n",
    "print(\"Count of training samples: \", count_of_training_samples)\n",
    "print(\"Count of validation_samples: \", count_of_validation_samples)"
   ]
  },
  {
   "cell_type": "code",
   "execution_count": 129,
   "metadata": {},
   "outputs": [
    {
     "name": "stdout",
     "output_type": "stream",
     "text": [
      "Count of different lego bricks types:  574\n"
     ]
    }
   ],
   "source": [
    "labels = list(dataset.count_values(\"ground_truth.detections.label\").keys())\n",
    "print(\"Count of different lego bricks types: \", len(labels))"
   ]
  },
  {
   "cell_type": "code",
   "execution_count": 130,
   "metadata": {},
   "outputs": [],
   "source": [
    "first_brick_type = dataset.filter_labels(\n",
    "    \"ground_truth\", F(\"label\").is_in([labels[0]])\n",
    ").take(count_of_samples)"
   ]
  },
  {
   "cell_type": "code",
   "execution_count": 131,
   "metadata": {},
   "outputs": [],
   "source": [
    "training_data = first_brick_type[0:count_of_training_samples].clone()\n",
    "validation_data = first_brick_type[count_of_training_samples:].clone()"
   ]
  },
  {
   "cell_type": "code",
   "execution_count": 132,
   "metadata": {},
   "outputs": [
    {
     "data": {
      "text/plain": [
       "True"
      ]
     },
     "execution_count": 132,
     "metadata": {},
     "output_type": "execute_result"
    }
   ],
   "source": [
    "len(training_data) + len(validation_data) == count_of_samples\n"
   ]
  },
  {
   "cell_type": "code",
   "execution_count": 138,
   "metadata": {},
   "outputs": [
    {
     "name": "stdout",
     "output_type": "stream",
     "text": [
      " 100% |█████████████████| 573/573 [8.9m elapsed, 0s remaining, 1.0 samples/s]      \n"
     ]
    }
   ],
   "source": [
    "with fo.ProgressBar() as pb:\n",
    "    for label in pb(labels[1:]):\n",
    "        samples_per_label = dataset.filter_labels(\n",
    "            \"ground_truth\", F(\"label\").is_in([label])\n",
    "        ).take(count_of_samples)\n",
    "\n",
    "        training_data.merge_samples(samples_per_label[0:count_of_training_samples])\n",
    "        validation_data.merge_samples(samples_per_label[count_of_training_samples:])\n"
   ]
  },
  {
   "cell_type": "code",
   "execution_count": 143,
   "metadata": {},
   "outputs": [
    {
     "name": "stdout",
     "output_type": "stream",
     "text": [
      "Wrong size of training data:\n",
      "9043\n",
      "9184\n"
     ]
    },
    {
     "data": {
      "text/plain": [
       "15.754355400696864"
      ]
     },
     "execution_count": 143,
     "metadata": {},
     "output_type": "execute_result"
    }
   ],
   "source": [
    "if not (len(training_data) == len(labels) * count_of_training_samples):\n",
    "    print(\"Wrong size of training data:\" )\n",
    "    print(len(training_data))\n",
    "    print(len(labels) * count_of_training_samples)\n",
    "\n",
    "len(training_data) / len(labels)"
   ]
  },
  {
   "cell_type": "code",
   "execution_count": 141,
   "metadata": {},
   "outputs": [
    {
     "name": "stdout",
     "output_type": "stream",
     "text": [
      "Wrong size of training data:\n",
      "2301\n",
      "2296\n"
     ]
    }
   ],
   "source": [
    "if not (len(validation_data) == len(labels) * count_of_validation_samples):\n",
    "    print(\"Wrong size of training data:\" )\n",
    "    print(len(validation_data))\n",
    "    print(len(labels) * count_of_validation_samples)"
   ]
  },
  {
   "cell_type": "code",
   "execution_count": 154,
   "metadata": {},
   "outputs": [
    {
     "name": "stdout",
     "output_type": "stream",
     "text": [
      " 100% |███████████████| 9043/9043 [6.4s elapsed, 0s remaining, 1.5K samples/s]        \n"
     ]
    }
   ],
   "source": [
    "training_data.export(labels_path=\"data/train_small.json\", dataset_type=fo.types.COCODetectionDataset, label_field='ground_truth')"
   ]
  },
  {
   "cell_type": "code",
   "execution_count": 155,
   "metadata": {},
   "outputs": [
    {
     "name": "stdout",
     "output_type": "stream",
     "text": [
      " 100% |███████████████| 2301/2301 [1.4s elapsed, 0s remaining, 1.7K samples/s]         \n"
     ]
    }
   ],
   "source": [
    "validation_data.export(labels_path=\"data/valid_small.json\", dataset_type=fo.types.COCODetectionDataset, label_field='ground_truth')"
   ]
  },
  {
   "cell_type": "code",
   "execution_count": null,
   "metadata": {},
   "outputs": [],
   "source": []
  }
 ],
 "metadata": {
  "interpreter": {
   "hash": "9107629c5c797e8d09db3875e85baf83be3c2178873e0f060ee7e88a8c56a111"
  },
  "kernelspec": {
   "display_name": "Python 3.9.10 ('venv': venv)",
   "language": "python",
   "name": "python3"
  },
  "language_info": {
   "codemirror_mode": {
    "name": "ipython",
    "version": 3
   },
   "file_extension": ".py",
   "mimetype": "text/x-python",
   "name": "python",
   "nbconvert_exporter": "python",
   "pygments_lexer": "ipython3",
   "version": "3.9.10"
  },
  "orig_nbformat": 4
 },
 "nbformat": 4,
 "nbformat_minor": 2
}
